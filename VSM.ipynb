{
  "nbformat": 4,
  "nbformat_minor": 0,
  "metadata": {
    "colab": {
      "provenance": []
    },
    "kernelspec": {
      "name": "python3",
      "display_name": "Python 3"
    },
    "language_info": {
      "name": "python"
    }
  },
  "cells": [
    {
      "cell_type": "markdown",
      "source": [
        "# Develop VSM Model - Wedding gown"
      ],
      "metadata": {
        "id": "h_EC7ycFLbGy"
      }
    },
    {
      "cell_type": "code",
      "execution_count": null,
      "metadata": {
        "id": "wZWT_YSfLXHB"
      },
      "outputs": [],
      "source": [
        "from sklearn.feature_extraction.text import CountVectorizer"
      ]
    },
    {
      "cell_type": "code",
      "source": [
        "# Documents\n",
        "documents = [\n",
        "    \"User selected Wedding gown\",\n",
        "    \"User ordered on-line rose flowers\",\n",
        "    \"User searched diamond ring\",\n",
        "    \"User selected white wedding gown, online flowers, 3 carat diamond ring\"\n",
        "]"
      ],
      "metadata": {
        "id": "0el5ceRVL7Sd"
      },
      "execution_count": null,
      "outputs": []
    },
    {
      "cell_type": "markdown",
      "source": [
        "The Vector Space Model (VSM) for the given documents and vocabulary is successfully created. The VSM is represented as a matrix where each row corresponds to a document and each column represents a term from the vocabulary. The values in the matrix indicate the frequency of the vocabulary terms in each document. Here is the matrix representation:"
      ],
      "metadata": {
        "id": "De04GxGbMm81"
      }
    },
    {
      "cell_type": "code",
      "source": [
        "# Adjusting the vocabulary to lowercase\n",
        "vocabulary_lower = [word.lower() for word in vocabulary]"
      ],
      "metadata": {
        "id": "bf45rC20L1JS"
      },
      "execution_count": null,
      "outputs": []
    },
    {
      "cell_type": "code",
      "source": [
        "# Recreate the Vector Space Model using CountVectorizer with lowercase vocabulary\n",
        "vectorizer_lower = CountVectorizer(vocabulary=vocabulary_lower)"
      ],
      "metadata": {
        "id": "FG_NTFj2L2g9"
      },
      "execution_count": null,
      "outputs": []
    },
    {
      "cell_type": "code",
      "source": [
        "# Fit and transform the documents with the adjusted vectorizer\n",
        "X_lower = vectorizer_lower.fit_transform(documents)"
      ],
      "metadata": {
        "id": "6vzqIlkiL4Ms"
      },
      "execution_count": null,
      "outputs": []
    },
    {
      "cell_type": "code",
      "source": [
        "# Convert the document-term matrix to array and display it\n",
        "vsm_array_lower = X_lower.toarray()\n",
        "vsm_array_lower"
      ],
      "metadata": {
        "colab": {
          "base_uri": "https://localhost:8080/"
        },
        "id": "oQGdlMwTL5fZ",
        "outputId": "4b2616d5-2e82-4712-ef2b-06acbd7219d9"
      },
      "execution_count": null,
      "outputs": [
        {
          "output_type": "execute_result",
          "data": {
            "text/plain": [
              "array([[1, 0, 0, 0],\n",
              "       [0, 1, 0, 1],\n",
              "       [0, 0, 1, 0],\n",
              "       [1, 0, 1, 1]])"
            ]
          },
          "metadata": {},
          "execution_count": 12
        }
      ]
    },
    {
      "cell_type": "markdown",
      "source": [
        "In this matrix:\n",
        "d1 (User selected Wedding gown) contains \"Gown\".\n",
        "d2 (User ordered on-line rose flowers) contains \"Rose\" and \"Flowers\".\n",
        "d3 (User searched diamond ring) contains \"Diamond\".\n",
        "d4 (User selected white wedding gown, online flowers, 3 carat diamond ring) contains \"Gown\", \"Diamond\", and \"Flowers\""
      ],
      "metadata": {
        "id": "Ddp4j3MoMQub"
      }
    }
  ]
}